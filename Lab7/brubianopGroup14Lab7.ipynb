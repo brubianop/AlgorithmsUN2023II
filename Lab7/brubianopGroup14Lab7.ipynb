{
  "nbformat": 4,
  "nbformat_minor": 0,
  "metadata": {
    "colab": {
      "provenance": []
    },
    "kernelspec": {
      "name": "python3",
      "display_name": "Python 3"
    },
    "language_info": {
      "name": "python"
    }
  },
  "cells": [
    {
      "cell_type": "markdown",
      "source": [
        "[![Open In Colab](https://colab.research.google.com/assets/colab-badge.svg)](https://colab.research.google.com/drive/1JMAdKhFV0gHSBAN1yRzTkOZ9C90I8Wj4?usp=sharing)"
      ],
      "metadata": {
        "id": "HGBTtxCEztpD"
      }
    },
    {
      "cell_type": "markdown",
      "source": [
        "##Group14\n",
        "##LAB 7 Gale-Shapley and Irving Algorithms (Groups)  [part of the first test]"
      ],
      "metadata": {
        "id": "3FckvA7qRwsW"
      }
    },
    {
      "cell_type": "markdown",
      "source": [
        "1) Find the best and worst cases for the Gale-Shapley and Irving (An Efficient Algorithm for the “Stable Roommates” Problem) Algorithms and run in Colab these algorithms for those cases for n=4 and 40."
      ],
      "metadata": {
        "id": "0iSfFlIpR2yN"
      }
    },
    {
      "cell_type": "markdown",
      "source": [
        "#Gale - Shapley Algorithm"
      ],
      "metadata": {
        "id": "2IynJxmRSB2K"
      }
    },
    {
      "cell_type": "code",
      "execution_count": null,
      "metadata": {
        "id": "g_uBa_KGRnAQ"
      },
      "outputs": [],
      "source": [
        "#source https://www.geeksforgeeks.org/stable-marriage-problem/\n",
        "# This function returns true if\n",
        "# woman 'w' prefers man 'm1' over man 'm'\n",
        "def wPrefersM1OverM(prefer, w, m, m1, N):\n",
        "\n",
        "    # Check if w prefers m over her\n",
        "    # current engagement m1\n",
        "    for i in range(N):\n",
        "\n",
        "        # If m1 comes before m in list of w,\n",
        "        # then w prefers her current engagement,\n",
        "        # don't do anything\n",
        "        if (prefer[w][i] == m1):\n",
        "            return True\n",
        "\n",
        "        # If m comes before m1 in w's list,\n",
        "        # then free her current engagement\n",
        "        # and engage her with m\n",
        "        if (prefer[w][i] == m):\n",
        "            return False\n",
        "\n",
        "# Prints stable matching for N boys and N girls.\n",
        "# Boys are numbered as 0 to N-1.\n",
        "# Girls are numbered as N to 2N-1.\n",
        "def gale_shapley_sma(prefer, N):\n",
        "\n",
        "    # Stores partner of women. This is our output\n",
        "    # array that stores passing information.\n",
        "    # The value of wPartner[i] indicates the partner\n",
        "    # assigned to woman N+i. Note that the woman numbers\n",
        "    # between N and 2*N-1. The value -1 indicates\n",
        "    # that (N+i)'th woman is free\n",
        "    wPartner = [-1 for i in range(N)]\n",
        "\n",
        "    # An array to store availability of men.\n",
        "    # If mFree[i] is false, then man 'i' is free,\n",
        "    # otherwise engaged.\n",
        "    mFree = [False for i in range(N)]\n",
        "\n",
        "    freeCount = N\n",
        "\n",
        "    # While there are free men\n",
        "    while (freeCount > 0):\n",
        "\n",
        "        # Pick the first free man (we could pick any)\n",
        "        m = 0\n",
        "        while (m < N):\n",
        "            if (mFree[m] == False):\n",
        "                break\n",
        "            m += 1\n",
        "\n",
        "        # One by one go to all women according to\n",
        "        # m's preferences. Here m is the picked free man\n",
        "        i = 0\n",
        "        while i < N and mFree[m] == False:\n",
        "            w = prefer[m][i]\n",
        "\n",
        "            # The woman of preference is free,\n",
        "            # w and m become partners (Note that\n",
        "            # the partnership maybe changed later).\n",
        "            # So we can say they are engaged not married\n",
        "            if (wPartner[w - N] == -1):\n",
        "                wPartner[w - N] = m\n",
        "                mFree[m] = True\n",
        "                freeCount -= 1\n",
        "\n",
        "            else:\n",
        "\n",
        "                # If w is not free\n",
        "                # Find current engagement of w\n",
        "                m1 = wPartner[w - N]\n",
        "\n",
        "                # If w prefers m over her current engagement m1,\n",
        "                # then break the engagement between w and m1 and\n",
        "                # engage m with w.\n",
        "                if (wPrefersM1OverM(prefer, w, m, m1, N) == False):\n",
        "                    wPartner[w - N] = m\n",
        "                    mFree[m] = True\n",
        "                    mFree[m1] = False\n",
        "            i += 1\n",
        "\n",
        "            # End of Else\n",
        "        # End of the for loop that goes\n",
        "        # to all women in m's list\n",
        "    # End of main while loop\n",
        "\n",
        "    # Print solution\n",
        "    print(\"Woman \", \" Man\")\n",
        "    for i in range(N):\n",
        "        print(i + N, \"\\t\", wPartner[i])"
      ]
    },
    {
      "cell_type": "code",
      "source": [
        "import numpy as np\n",
        "#N = 4\n",
        "n = 4\n",
        "mpref = [ list(np.random.permutation(n)) for i in range(n) ]\n",
        "wpref = [ list(map(lambda l: l + n, np.random.permutation(n))) for i in range(n) ]\n",
        "\n",
        "pref_l = mpref + wpref\n",
        "print(\"n = 4\")\n",
        "gale_shapley_sma(pref_l, n)\n",
        "print()\n",
        "\n",
        "#N = 40\n",
        "n = 40\n",
        "mpref = [ list(np.random.permutation(n)) for i in range(n) ]\n",
        "wpref = [ list(map(lambda l: l + n, np.random.permutation(n))) for i in range(n) ]\n",
        "pref_l = mpref + wpref\n",
        "print(\"n = 40\")\n",
        "gale_shapley_sma(pref_l, n)"
      ],
      "metadata": {
        "id": "PemNv44oYO-5",
        "colab": {
          "base_uri": "https://localhost:8080/"
        },
        "outputId": "8589eacc-1996-43ae-ca4c-10d7e1ecc0e0"
      },
      "execution_count": null,
      "outputs": [
        {
          "output_type": "stream",
          "name": "stdout",
          "text": [
            "n = 4\n",
            "Woman   Man\n",
            "4 \t 1\n",
            "5 \t 0\n",
            "6 \t 2\n",
            "7 \t 3\n",
            "\n",
            "n = 40\n",
            "Woman   Man\n",
            "40 \t 1\n",
            "41 \t 30\n",
            "42 \t 27\n",
            "43 \t 3\n",
            "44 \t 37\n",
            "45 \t 28\n",
            "46 \t 24\n",
            "47 \t 7\n",
            "48 \t 0\n",
            "49 \t 9\n",
            "50 \t 10\n",
            "51 \t 2\n",
            "52 \t 12\n",
            "53 \t 38\n",
            "54 \t 17\n",
            "55 \t 23\n",
            "56 \t 16\n",
            "57 \t 25\n",
            "58 \t 6\n",
            "59 \t 18\n",
            "60 \t 19\n",
            "61 \t 15\n",
            "62 \t 22\n",
            "63 \t 5\n",
            "64 \t 20\n",
            "65 \t 11\n",
            "66 \t 34\n",
            "67 \t 31\n",
            "68 \t 21\n",
            "69 \t 35\n",
            "70 \t 8\n",
            "71 \t 14\n",
            "72 \t 33\n",
            "73 \t 32\n",
            "74 \t 26\n",
            "75 \t 29\n",
            "76 \t 39\n",
            "77 \t 4\n",
            "78 \t 13\n",
            "79 \t 36\n"
          ]
        }
      ]
    },
    {
      "cell_type": "markdown",
      "source": [
        "#Irving Algorithm"
      ],
      "metadata": {
        "id": "-qk1TSMDfvpO"
      }
    },
    {
      "cell_type": "code",
      "source": [
        "def irving_rhma(rpref, hpref):\n",
        "  #track of r with h. dict for indexing\n",
        "  n = len(rpref)\n",
        "  ravl = [ -1 for i in range(n) ]\n",
        "  havl = dict()\n",
        "  while ravl.count(-1) != 0:\n",
        "    for r in range(n):\n",
        "      if ravl[r] == -1:\n",
        "        h = rpref[r][0]\n",
        "        rpref[r].pop(0) #dscrd\n",
        "        if h not in havl:\n",
        "          havl[h] = r\n",
        "          ravl[r] = h\n",
        "        else:\n",
        "          dsp_r = havl[h]\n",
        "          chpref = hpref[h]\n",
        "          if chpref.index(r) < chpref.index(dsp_r):\n",
        "            havl[h] = r\n",
        "            ravl[r] = h\n",
        "            ravl[dsp_r] = -1\n",
        "  return ravl"
      ],
      "metadata": {
        "id": "Kyj6utuqf1XF"
      },
      "execution_count": null,
      "outputs": []
    },
    {
      "cell_type": "code",
      "source": [
        "import numpy as np\n",
        "#N = 4\n",
        "n = 4\n",
        "rpref = [ list(np.random.permutation(n)) for i in range(n) ]\n",
        "hpref = [ list(np.random.permutation(n)) for i in range(n) ]\n",
        "print(f\"r. match. n = 4: {irving_rhma(rpref, hpref)}\")\n",
        "\n",
        "#N = 40\n",
        "n = 40\n",
        "rpref = [ list(np.random.permutation(n)) for i in range(n) ]\n",
        "hpref = [ list(np.random.permutation(n)) for i in range(n) ]\n",
        "print(f\"r. match n = 40: {irving_rhma(rpref, hpref)}\")"
      ],
      "metadata": {
        "colab": {
          "base_uri": "https://localhost:8080/"
        },
        "id": "hUJPUixxjvYy",
        "outputId": "8faed14d-ddce-4c98-931a-5605e50369b9"
      },
      "execution_count": null,
      "outputs": [
        {
          "output_type": "stream",
          "name": "stdout",
          "text": [
            "r. match. n = 4: [2, 0, 3, 1]\n",
            "r. match n = 40: [21, 19, 18, 31, 30, 8, 15, 16, 3, 10, 27, 0, 20, 36, 25, 26, 4, 13, 6, 37, 29, 7, 12, 17, 5, 24, 33, 32, 1, 28, 11, 9, 22, 2, 39, 23, 35, 38, 14, 34]\n"
          ]
        }
      ]
    },
    {
      "cell_type": "markdown",
      "source": [
        "2) Run the Gale-Shapley Algorithm 100 times using random permutations as preference lists for n=4 and 40. Find the minimum, maximum and average number of iterations and plot the distribution of the number of iterations."
      ],
      "metadata": {
        "id": "CYj5lUk_gyp3"
      }
    },
    {
      "cell_type": "code",
      "source": [
        "#source https://www.geeksforgeeks.org/stable-marriage-problem/\n",
        "# This function returns true if\n",
        "# woman 'w' prefers man 'm1' over man 'm'\n",
        "def wPrefersM1OverM(prefer, w, m, m1, N):\n",
        "\n",
        "    # Check if w prefers m over her\n",
        "    # current engagement m1\n",
        "    for i in range(N):\n",
        "\n",
        "        # If m1 comes before m in list of w,\n",
        "        # then w prefers her current engagement,\n",
        "        # don't do anything\n",
        "        if (prefer[w][i] == m1):\n",
        "            return True\n",
        "\n",
        "        # If m comes before m1 in w's list,\n",
        "        # then free her current engagement\n",
        "        # and engage her with m\n",
        "        if (prefer[w][i] == m):\n",
        "            return False\n",
        "\n",
        "# Prints stable matching for N boys and N girls.\n",
        "# Boys are numbered as 0 to N-1.\n",
        "# Girls are numbered as N to 2N-1.\n",
        "def gale_shapley_sma_itr(prefer, N, iter):\n",
        "\n",
        "    # Stores partner of women. This is our output\n",
        "    # array that stores passing information.\n",
        "    # The value of wPartner[i] indicates the partner\n",
        "    # assigned to woman N+i. Note that the woman numbers\n",
        "    # between N and 2*N-1. The value -1 indicates\n",
        "    # that (N+i)'th woman is free\n",
        "    wPartner = [-1 for i in range(N)]\n",
        "\n",
        "    # An array to store availability of men.\n",
        "    # If mFree[i] is false, then man 'i' is free,\n",
        "    # otherwise engaged.\n",
        "    mFree = [False for i in range(N)]\n",
        "\n",
        "    freeCount = N\n",
        "    iter_i = 0\n",
        "    # While there are free men\n",
        "    while (freeCount > 0):\n",
        "\n",
        "        # Pick the first free man (we could pick any)\n",
        "        m = 0\n",
        "        while (m < N):\n",
        "            if (mFree[m] == False):\n",
        "                break\n",
        "            m += 1\n",
        "\n",
        "        # One by one go to all women according to\n",
        "        # m's preferences. Here m is the picked free man\n",
        "        i = 0\n",
        "        while i < N and mFree[m] == False:\n",
        "            w = prefer[m][i]\n",
        "\n",
        "            # The woman of preference is free,\n",
        "            # w and m become partners (Note that\n",
        "            # the partnership maybe changed later).\n",
        "            # So we can say they are engaged not married\n",
        "            if (wPartner[w - N] == -1):\n",
        "                wPartner[w - N] = m\n",
        "                mFree[m] = True\n",
        "                freeCount -= 1\n",
        "\n",
        "            else:\n",
        "\n",
        "                # If w is not free\n",
        "                # Find current engagement of w\n",
        "                m1 = wPartner[w - N]\n",
        "\n",
        "                # If w prefers m over her current engagement m1,\n",
        "                # then break the engagement between w and m1 and\n",
        "                # engage m with w.\n",
        "                if (wPrefersM1OverM(prefer, w, m, m1, N) == False):\n",
        "                    wPartner[w - N] = m\n",
        "                    mFree[m] = True\n",
        "                    mFree[m1] = False\n",
        "            i += 1\n",
        "            # End of Else\n",
        "        # End of the for loop that goes\n",
        "        # to all women in m's list\n",
        "        iter_i += i\n",
        "        iter_i += 1\n",
        "    # End of main while loop\n",
        "    iter.append(iter_i)\n",
        "    return iter"
      ],
      "metadata": {
        "id": "GjwSaJcypDGi"
      },
      "execution_count": null,
      "outputs": []
    },
    {
      "cell_type": "code",
      "source": [
        "import numpy as np\n",
        "import matplotlib.pyplot as plt\n",
        "\n",
        "iter4 = []\n",
        "#N = 4\n",
        "n = 4\n",
        "for i in range(100):\n",
        "  pref_l = []\n",
        "  mpref = [ list(np.random.permutation(n)) for i in range(n) ]\n",
        "  wpref = [ list(map(lambda l: l + n, np.random.permutation(n))) for i in range(n) ]\n",
        "  pref_l = mpref + wpref\n",
        "  iter4 = gale_shapley_sma_itr(pref_l, n, iter4)\n",
        "print(f\"For n = 4:\\nMin iterations: {min(iter4)}\\nMax iterations: {max(iter4)}\\nAverage iterations: {sum(iter4) / 100}\")\n",
        "plt.hist(iter4, color=\"red\", rwidth=4)\n",
        "plt.title(\"n = 4\")\n",
        "plt.xlabel(\"iters.\")\n",
        "plt.ylabel(\"freq.\")\n",
        "plt.tight_layout()\n",
        "plt.show()\n",
        "\n",
        "#N = 40\n",
        "iter40 = []\n",
        "n = 40\n",
        "for i in range(100):\n",
        "  pref_l = []\n",
        "  mpref = [ list(np.random.permutation(n)) for i in range(n) ]\n",
        "  wpref = [ list(map(lambda l: l + n, np.random.permutation(n))) for i in range(n) ]\n",
        "  pref_l = mpref + wpref\n",
        "  iter40 = gale_shapley_sma_itr(pref_l, n, iter40)\n",
        "print(f\"For n = 40:\\nMin iterations: {min(iter40)}\\nMax iterations: {max(iter40)}\\nAverage iterations: {sum(iter40) / 100}\")\n",
        "plt.hist(iter40, color=\"cyan\", rwidth=4)\n",
        "plt.title(\"n = 40\")\n",
        "plt.xlabel(\"iters.\")\n",
        "plt.ylabel(\"freq.\")\n",
        "plt.tight_layout()\n",
        "plt.show()"
      ],
      "metadata": {
        "id": "zyKOZuhbpLbK",
        "colab": {
          "base_uri": "https://localhost:8080/",
          "height": 1000
        },
        "outputId": "6b2acfb5-9960-4562-cb8d-e7a476df1fb6"
      },
      "execution_count": null,
      "outputs": [
        {
          "output_type": "stream",
          "name": "stdout",
          "text": [
            "For n = 4:\n",
            "Min iterations: 8\n",
            "Max iterations: 21\n",
            "Average iterations: 12.26\n"
          ]
        },
        {
          "output_type": "display_data",
          "data": {
            "text/plain": [
              "<Figure size 640x480 with 1 Axes>"
            ],
            "image/png": "[encoded data removed]"
          },
          "metadata": {}
        },
        {
          "output_type": "stream",
          "name": "stdout",
          "text": [
            "For n = 40:\n",
            "Min iterations: 190\n",
            "Max iterations: 548\n",
            "Average iterations: 320.66\n"
          ]
        },
        {
          "output_type": "display_data",
          "data": {
            "text/plain": [
              "<Figure size 640x480 with 1 Axes>"
            ],
            "image/png": "[encoded data removed]"
          },
          "metadata": {}
        }
      ]
    },
    {
      "cell_type": "markdown",
      "source": [
        "3) Simulate the the Gale-Shapley and Irving algorithms using random preference lists , for n=4 and 40 and generate a gift animation fo the type show in “Illustrating the Deferred Acceptance Algorithm with R"
      ],
      "metadata": {
        "id": "rYZSeEZTg8lV"
      }
    },
    {
      "cell_type": "code",
      "source": [],
      "metadata": {
        "id": "HVTQTGdWuzxY"
      },
      "execution_count": null,
      "outputs": []
    }
  ]
}