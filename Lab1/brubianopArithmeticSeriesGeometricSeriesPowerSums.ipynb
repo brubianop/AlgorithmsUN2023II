{
  "nbformat": 4,
  "nbformat_minor": 0,
  "metadata": {
    "colab": {
      "provenance": []
    },
    "kernelspec": {
      "name": "python3",
      "display_name": "Python 3"
    }
  },
  "cells": [
    {
      "cell_type": "markdown",
      "source": [
        "[![Open In Colab](https://colab.research.google.com/assets/colab-badge.svg)](https://colab.research.google.com/drive/1sa9_EmiDmUiNrW7KGl1l8zSHlakuDLme?usp=sharing)"
      ],
      "metadata": {
        "id": "58r5cUwJMQQp"
      }
    },
    {
      "cell_type": "markdown",
      "source": [
        "# Name: Brayan M. Rubiano P.\n",
        "# Number in the list : 28\n",
        "# Last digit of the number in the list: 8"
      ],
      "metadata": {
        "id": "xbAWD-q6yn-x"
      }
    },
    {
      "cell_type": "markdown",
      "metadata": {
        "id": "r4rXWI4gCN5B"
      },
      "source": [
        "# Arithmetic Series\n",
        "\n",
        "## Modified from Arithmetic Series -  [Wolfram MathWorld](https://mathworld.wolfram.com/ArithmeticSeries.html) - [wikipedia](https://en.wikipedia.org/wiki/Arithmetic_progression)\n",
        "\n",
        "\n",
        "An arithmetic sequence $\\{a_k\\}$ for $k=1, 2, ..., $ in which each term is computed from the previous one by adding (or subtracting) a constant $d$.\n",
        "\n",
        "\\begin{align*}\n",
        "a_1 & \\\\\n",
        "a_2 &\\ \\ =\\ \\ a_1 + d  \\\\\n",
        "a_3 &\\ \\ =\\ \\ a_2 + d \\ \\ =\\ \\ a_1 + 2d   \\\\\n",
        "a_4 &\\ \\ =\\ \\ a_3 + d \\ \\ =\\ \\ a_2 + 2d \\ \\ =\\ \\ a_1 + 3d  \\\\\n",
        "\\vdots\\\\\n",
        "a_k &\\ \\ =\\ \\ a_{(k-1)}+d \\ =\\  a_{(k-2)}+2d \\ =\\  \\ldots \\ =\\  \\ a_1+(k-1)d\n",
        "\\end{align*}\n",
        "\n",
        "Therefore, for $k>=1$,\n",
        "\n",
        "$$ a_k = a_1 + (k-1)d$$\n",
        "\n",
        "With $a_1$ and $d$ given.\n",
        "\n",
        "<br />\n",
        "\n",
        "The sequence of the partial sum of the first $n$ terms of a sequence is called a series, in the case of an arithemetic sequence the series is called an arithmetic series.\n",
        "\n",
        "If  $a_1= 1$ and $d=1$ we have, the simplest arithmnetic sequence,  the natural numbers sequence $\\{a_k = k \\}$ for  $k=1, 2, ..., $  i.e. the seuqnece\n",
        "$$1, 2, ...,$$\n",
        "The  corresponding series is\n",
        "$$\n",
        "S_n = 1 + 2+ \\ldots + (n-1)+ n = \\sum_{k=1}^n k\n",
        "$$\n",
        "can be calculated as a function of $n$.\n",
        "\n",
        "Assume that we allign one $S_{n-1}$ with a second  $S_{n-1}$ that have the terms adden reverse order and you add term to term, we have\n",
        "\\begin{array}{llclclclclc}\n",
        "  S_{n-1} &=& 1 &+& 2 &+& \\ldots &+& (n-2) &+& (n-1) \\\\\n",
        "  S_{n-1} &=& (n-1)  &+& (n-2)  &+& \\ldots   &+& 2   &+& 1 \\\\\n",
        "   \\hline \\\\\n",
        "   2S_{n-1} &=& n  &+& n  &+& \\ldots   &+& n   &+& n \\\\\n",
        "\\end{array}\n",
        "so\n",
        "$$  2S_{n-1} = (n-1)n $$\n",
        "then\n",
        "$$  S_{n-1} = \\frac{1}{2} (n-1)n$$\n",
        "therefore\n",
        "$$  S_{n} = \\frac{1}{2} n(n+1)$$\n",
        "\n",
        "\n",
        "\\begin{align*}\n",
        "S_n &= \\sum_{k=1}^n a_k\t\\\\\n",
        "    &= \\sum_{k=1}^n[a_1+(k-1)d]\t\t\\\\\n",
        "    &= na_1 + d \\sum_{k=1}^n(k-1)\t\\\\\n",
        "    &= na_1 + d \\sum_{k=0}^{n-1} k\t\\\\\n",
        "    &= na_1 + d \\sum_{k=1}^{n-1} k\t\\\\\n",
        "    &= na_1 +  \\frac{1}{2} d(n-1)n\\\\\n",
        "\\end{align*}\n",
        "so\n",
        "$$ S_n =  \\frac{1}{2} n[2 a_1 +d(n-1)].$$\n",
        "\n",
        "Note, however, that\n",
        "$$a_1+a_n=a_1+[a_1+d(n-1)]=2a_1+d(n-1),$$\n",
        "so\n",
        "$$S_n = \\frac{1}{2}n(a_1+a_n),$$\n",
        "\n",
        "\n",
        "or $n$ times the arithmetic mean of the first and last terms! This is the trick Gauss used as a schoolboy to solve the problem of summing the integers from $1$ to $100$ given as busy-work by his teacher. While his classmates toiled away doing the addition longhand, Gauss wrote a single number, the correct answer\n",
        "\n",
        "$$\\frac{1}{2}(100)(1+100)=50·101=5050$$\n",
        "on his slate (Burton 1989, pp. 80-81; Hoffman 1998, p. 207). When the answers were examined, Gauss's proved to be the only correct one.\n",
        "\n",
        "<br />\n",
        "\n",
        "If  the sequence starts at index $0$, $\\{a_k\\}$ for $ k=0, 1, 2, ..., $ we have\n",
        "\n",
        "\\begin{align*}\n",
        "a_0 & \\\\\n",
        "a_1 &\\ \\ =\\ \\ a_0 + d  \\\\\n",
        "a_2 &\\ \\ =\\ \\ a_1 + d \\ \\ =\\ \\ a_0 + 2d   \\\\\n",
        "a_3 &\\ \\ =\\ \\ a_2 + d \\ \\ =\\ \\ a_1 + 2d \\ \\ =\\ \\ a_0 + 3d  \\\\\n",
        "\\vdots\\\\\n",
        "a_k &\\ \\ =\\ \\ a_{(k-1)}+d \\ =\\  a_{(k-2)}+2d \\ =\\  \\ldots \\ = \\  \\ a_1+(k-1)d \\ \\ =\\ \\ a_0+kd\n",
        "\\end{align*}\n",
        "\n",
        "<br />\n",
        "for given   $a_0$ and $d$.\n",
        "\n",
        "In this case the sum of the terms between $0$ and $n$ of  the arithemnetic sequence  is then given by\n",
        "\\begin{align*}\n",
        "S_n &= \\sum_{k=0}^{n} a_k\t\\\\\n",
        "    &= \\sum_{k=0}^{n}[a_0+kd]\t\t\\\\\n",
        "    &= (n+1) a_0 + d \\sum_{k=0}^{n} k\t\\\\\n",
        "    &= (n+1) a_0 + d \\sum_{k=1}^{} k\t\\\\\n",
        "    &=(n+1) a_0+  \\frac{1}{2} dn(n+1) \\\\\n",
        "\\end{align*}\n",
        "so\n",
        "$$ S_n =  \\frac{1}{2} (n+1)[2 a_0 + dn].$$\n",
        "<br />\n",
        "$$ S_n =  \\frac{1}{2} (n+1)[a_0+ a_n].$$\n",
        "\n",
        "\n"
      ]
    },
    {
      "cell_type": "markdown",
      "metadata": {
        "id": "GfBh-QHRcods"
      },
      "source": [
        "### Code\n",
        "####  The simplest arithmetic sequence and series\n",
        "\n",
        "The simplest arithmnetic sequence is\n",
        "\n",
        "\n",
        "$$a_n = 1, 2, ...,$$"
      ]
    },
    {
      "cell_type": "markdown",
      "metadata": {
        "id": "n36eWqEXiktl"
      },
      "source": [
        "The following code plots the first $n = 15$ terms of the simplest arithmnetic sequence\n",
        "$$\\{a_n = n\\} \\text{ for } n =1,2,\\ldots  $$\n",
        "i.e\n",
        "$$\\{a_n = n\\} =1,2,\\ldots $$\n",
        "adn the corresponding terms of the simplest arithmnetic series\n",
        "$$  S_n = 1 + 2+ \\ldots + (n-1)+ n = \\sum_{k=1}^n k=  \\frac{1}{2} n(n+1)$$\n"
      ]
    },
    {
      "cell_type": "markdown",
      "metadata": {
        "id": "_VyGiunIZknK"
      },
      "source": [
        "Plot"
      ]
    },
    {
      "cell_type": "code",
      "metadata": {
        "colab": {
          "base_uri": "https://localhost:8080/",
          "height": 448
        },
        "id": "gx3Q4uo-ONCi",
        "outputId": "5c0f9487-5b90-4ac6-97ba-7ef1339c6d66"
      },
      "source": [
        "import matplotlib.pyplot as plt\n",
        "import numpy as np\n",
        "\n",
        "n = 15\n",
        "S_n = 0\n",
        "Serie_S_n=[]\n",
        "Sequence_a_n =[]\n",
        "for i in range(1,n+1):\n",
        "  S_n = S_n + i\n",
        "  Serie_S_n.append(S_n)\n",
        "  Sequence_a_n.append(i)\n",
        "\n",
        "\n",
        "plt.plot(np.arange(1, n+1),Serie_S_n, color='black',label='Serie_S_n')\n",
        "plt.plot(np.arange(1, n+1), Sequence_a_n, color='red',label='Sequence_a_n')\n",
        "plt.xticks(np.arange(1, n+1))\n",
        "plt.legend()\n",
        "\n",
        "\n"
      ],
      "execution_count": null,
      "outputs": [
        {
          "output_type": "execute_result",
          "data": {
            "text/plain": [
              "<matplotlib.legend.Legend at 0x78ac8cefb2b0>"
            ]
          },
          "metadata": {},
          "execution_count": 82
        },
        {
          "output_type": "display_data",
          "data": {
            "text/plain": [
              "<Figure size 640x480 with 1 Axes>"
            ],
            "image/png": "[encoded data removed]"
          },
          "metadata": {}
        }
      ]
    },
    {
      "cell_type": "code",
      "metadata": {
        "colab": {
          "base_uri": "https://localhost:8080/"
        },
        "id": "o2es6b4cysQk",
        "outputId": "23fbceed-7514-446a-c049-04c7db41c95a"
      },
      "source": [
        "Sequence_a_n"
      ],
      "execution_count": null,
      "outputs": [
        {
          "output_type": "execute_result",
          "data": {
            "text/plain": [
              "[1, 2, 3, 4, 5, 6, 7, 8, 9, 10, 11, 12, 13, 14, 15]"
            ]
          },
          "metadata": {},
          "execution_count": 83
        }
      ]
    },
    {
      "cell_type": "code",
      "metadata": {
        "colab": {
          "base_uri": "https://localhost:8080/"
        },
        "id": "T2VeBOBZ0ibg",
        "outputId": "d4814eca-4754-4b8c-b3ca-b227e17d42a2"
      },
      "source": [
        "Serie_S_n"
      ],
      "execution_count": null,
      "outputs": [
        {
          "output_type": "execute_result",
          "data": {
            "text/plain": [
              "[1, 3, 6, 10, 15, 21, 28, 36, 45, 55, 66, 78, 91, 105, 120]"
            ]
          },
          "metadata": {},
          "execution_count": 84
        }
      ]
    },
    {
      "cell_type": "markdown",
      "metadata": {
        "id": "0ybfJdHxZGvW"
      },
      "source": [
        "The following code computes the  $n=10000000$  term of the airthmetic series\n",
        "$$  S_n = 1 + 2+ \\ldots + (n-1)+ n = \\sum_{k=1}^n =  \\frac{1}{2} n(n+1)$$"
      ]
    },
    {
      "cell_type": "code",
      "metadata": {
        "colab": {
          "base_uri": "https://localhost:8080/"
        },
        "id": "99xYHDQycnol",
        "outputId": "d0f6da86-227f-4172-b4d2-479ff4b7b765"
      },
      "source": [
        "n = 10000000\n",
        "S_n = 0\n",
        "for i in range(1,n+1):  # range(n+1) goes form 1 to n\n",
        "  S_n = S_n + i\n",
        "print(S_n)"
      ],
      "execution_count": null,
      "outputs": [
        {
          "output_type": "stream",
          "name": "stdout",
          "text": [
            "50000005000000\n"
          ]
        }
      ]
    },
    {
      "cell_type": "code",
      "metadata": {
        "colab": {
          "base_uri": "https://localhost:8080/"
        },
        "id": "RGCSuDGHeFwH",
        "outputId": "7e15dc98-3527-4e3c-f0ce-48f66541e74e"
      },
      "source": [
        "(1/2)*n*(n+1)"
      ],
      "execution_count": null,
      "outputs": [
        {
          "output_type": "execute_result",
          "data": {
            "text/plain": [
              "50000005000000.0"
            ]
          },
          "metadata": {},
          "execution_count": 86
        }
      ]
    },
    {
      "cell_type": "markdown",
      "metadata": {
        "id": "bg8zxAhcecpk"
      },
      "source": [
        "The following code computes the $n=10000000$ term of the airthmetic series\n",
        "$$ S_n  = \\sum_{k=1}^n a_k$$\n",
        "\n",
        "<br />\n",
        "for the airthmetic sequence $a_k = 10 + 3 (k-1) $ for $k=1,2,\\ldots$\n",
        "\n",
        "<br />\n",
        "$$ 10,13,16,19,21,\\ldots$$\n"
      ]
    },
    {
      "cell_type": "markdown",
      "metadata": {
        "id": "hg3ixQ3bZiVh"
      },
      "source": [
        "Plot"
      ]
    },
    {
      "cell_type": "code",
      "metadata": {
        "colab": {
          "base_uri": "https://localhost:8080/"
        },
        "id": "w8FP1XqSgnie",
        "outputId": "10867bdc-7d59-4bb6-852f-b60a94fa8bee"
      },
      "source": [
        "n = 10000000\n",
        "a = 10\n",
        "d = 3 #\n",
        "S_n = 0\n",
        "for i in range(1,n+1):  # range(n+19 goes form 1 to n\n",
        "  a_n = a + d * (i-1)\n",
        "  S_n = S_n + a_n\n",
        "print(S_n)"
      ],
      "execution_count": null,
      "outputs": [
        {
          "output_type": "stream",
          "name": "stdout",
          "text": [
            "150000085000000\n"
          ]
        }
      ]
    },
    {
      "cell_type": "code",
      "metadata": {
        "colab": {
          "base_uri": "https://localhost:8080/"
        },
        "id": "g_38RfB_hgg2",
        "outputId": "739db5a9-e540-4c4f-ffd3-ec7ae58484bc"
      },
      "source": [
        "n*(2*a +d*(n-1))/2"
      ],
      "execution_count": null,
      "outputs": [
        {
          "output_type": "execute_result",
          "data": {
            "text/plain": [
              "150000085000000.0"
            ]
          },
          "metadata": {},
          "execution_count": 88
        }
      ]
    },
    {
      "cell_type": "code",
      "metadata": {
        "colab": {
          "base_uri": "https://localhost:8080/"
        },
        "id": "zS3qb_xE1u58",
        "outputId": "f660410f-2993-4627-ecdc-ffd173d56c61"
      },
      "source": [
        "n*(a +a_n)/2"
      ],
      "execution_count": null,
      "outputs": [
        {
          "output_type": "execute_result",
          "data": {
            "text/plain": [
              "150000085000000.0"
            ]
          },
          "metadata": {},
          "execution_count": 89
        }
      ]
    },
    {
      "cell_type": "code",
      "metadata": {
        "colab": {
          "base_uri": "https://localhost:8080/",
          "height": 450
        },
        "id": "7qesKez70zub",
        "outputId": "d7af165f-09b0-4c90-b2a9-7787880d1d57"
      },
      "source": [
        "import matplotlib.pyplot as plt\n",
        "import numpy as np\n",
        "\n",
        "n = 20\n",
        "a = 10\n",
        "d = 3\n",
        "S_n = 0\n",
        "Serie_S_n=[]\n",
        "Sequence_a_n =[]\n",
        "for i in range(1,n+1):  # range(n+1) goes form 1 to n\n",
        "  a_n = a + d * (i-1)\n",
        "  S_n = S_n + a_n\n",
        "  Serie_S_n.append(S_n)\n",
        "  Sequence_a_n.append(a_n)\n",
        "\n",
        "plt.plot(np.arange(1, n+1),Serie_S_n, color='black',label='Serie_S_n')\n",
        "plt.plot(np.arange(1, n+1),Sequence_a_n, color='red',label='Sequence_a_n')\n",
        "plt.xticks(np.arange(1, n+1))\n",
        "plt.legend()"
      ],
      "execution_count": null,
      "outputs": [
        {
          "output_type": "execute_result",
          "data": {
            "text/plain": [
              "<matplotlib.legend.Legend at 0x78ac8ce977c0>"
            ]
          },
          "metadata": {},
          "execution_count": 90
        },
        {
          "output_type": "display_data",
          "data": {
            "text/plain": [
              "<Figure size 640x480 with 1 Axes>"
            ],
            "image/png": "[encoded data removed]"
          },
          "metadata": {}
        }
      ]
    },
    {
      "cell_type": "markdown",
      "metadata": {
        "id": "r9qzONSlZq2q"
      },
      "source": [
        "## Your own example of arithmetic series $a_1$ is your list number and $d$ as the last digit of the your list number\n",
        "\n"
      ]
    },
    {
      "cell_type": "markdown",
      "metadata": {
        "id": "N-TxF1qxc-nk"
      },
      "source": [
        "The following code computes the $n=10000000$ term of the Arithmetic Series\n",
        "$$ S_n  = \\sum_{k=1}^n a_k$$\n",
        "Where: <br />\n",
        "$a_1 = 28$. List number <br />\n",
        "$d = 8$. Last digit in list number\n",
        "\n",
        "<br />\n",
        "for the airthmetic sequence $a_k = 28 + 8 (k-1) $ for $k=1,2,\\ldots$\n",
        "\n",
        "<br />\n",
        "$$ 28, 36, 44, 52, 60, 68, \\ldots$$"
      ]
    },
    {
      "cell_type": "code",
      "metadata": {
        "id": "SrJ_dPxS0pwP",
        "colab": {
          "base_uri": "https://localhost:8080/"
        },
        "outputId": "7ea08be7-5c6e-4a18-add7-f1f21a1164a4"
      },
      "source": [
        "n = 10000000\n",
        "a = 28\n",
        "d = 8\n",
        "S_n = 0\n",
        "for i in range(1, n + 1):\n",
        "  a_n = a + d * (i - 1)\n",
        "  S_n = S_n + a_n\n",
        "print(S_n)"
      ],
      "execution_count": null,
      "outputs": [
        {
          "output_type": "stream",
          "name": "stdout",
          "text": [
            "400000240000000\n"
          ]
        }
      ]
    },
    {
      "cell_type": "code",
      "source": [
        "n*(2*a + d*(n - 1))/2"
      ],
      "metadata": {
        "id": "QjJDx28sEV22",
        "colab": {
          "base_uri": "https://localhost:8080/"
        },
        "outputId": "9b18730c-030c-4900-e59f-a5f329809fc8"
      },
      "execution_count": null,
      "outputs": [
        {
          "output_type": "execute_result",
          "data": {
            "text/plain": [
              "400000240000000.0"
            ]
          },
          "metadata": {},
          "execution_count": 92
        }
      ]
    },
    {
      "cell_type": "code",
      "source": [
        "n*(a + a_n)/2"
      ],
      "metadata": {
        "id": "3l2IV6BOEVv2",
        "colab": {
          "base_uri": "https://localhost:8080/"
        },
        "outputId": "ba6baca5-e570-414f-a29a-a7aaa593a30e"
      },
      "execution_count": null,
      "outputs": [
        {
          "output_type": "execute_result",
          "data": {
            "text/plain": [
              "400000240000000.0"
            ]
          },
          "metadata": {},
          "execution_count": 93
        }
      ]
    },
    {
      "cell_type": "markdown",
      "source": [
        "Plotting the first $n = 25$ terms."
      ],
      "metadata": {
        "id": "k96eKKfE9A1p"
      }
    },
    {
      "cell_type": "code",
      "source": [
        "import matplotlib.pyplot as plt\n",
        "import numpy as np\n",
        "\n",
        "n = 25\n",
        "a = 28\n",
        "d = 8\n",
        "S_n = 0\n",
        "Serie_S_n = []\n",
        "Sequence_a_n = []\n",
        "for i in range(1, n + 1):\n",
        "  a_n = a + d * (i - 1)\n",
        "  S_n = S_n + a_n\n",
        "  Serie_S_n.append(S_n)\n",
        "  Sequence_a_n.append(a_n)\n",
        "\n",
        "plt.plot(np.arange(1, n + 1),Serie_S_n, color='black',label='Serie_S_n')\n",
        "plt.plot(np.arange(1, n + 1),Sequence_a_n, color='cyan',label='Sequence_a_n')\n",
        "plt.xticks(np.arange(1, n + 1))\n",
        "plt.legend()"
      ],
      "metadata": {
        "id": "hWDNr6kHEVmm",
        "colab": {
          "base_uri": "https://localhost:8080/",
          "height": 448
        },
        "outputId": "0a1afda0-f239-46be-c246-782a51b9389b"
      },
      "execution_count": null,
      "outputs": [
        {
          "output_type": "execute_result",
          "data": {
            "text/plain": [
              "<matplotlib.legend.Legend at 0x78ac90c4d5a0>"
            ]
          },
          "metadata": {},
          "execution_count": 94
        },
        {
          "output_type": "display_data",
          "data": {
            "text/plain": [
              "<Figure size 640x480 with 1 Axes>"
            ],
            "image/png": "[encoded data removed]"
          },
          "metadata": {}
        }
      ]
    },
    {
      "cell_type": "code",
      "source": [
        "print(Sequence_a_n)"
      ],
      "metadata": {
        "colab": {
          "base_uri": "https://localhost:8080/"
        },
        "id": "q5Pij49T8nzQ",
        "outputId": "e3fb8f76-7dea-4ab5-c4b7-5e772e2b67a7"
      },
      "execution_count": null,
      "outputs": [
        {
          "output_type": "stream",
          "name": "stdout",
          "text": [
            "[28, 36, 44, 52, 60, 68, 76, 84, 92, 100, 108, 116, 124, 132, 140, 148, 156, 164, 172, 180, 188, 196, 204, 212, 220]\n"
          ]
        }
      ]
    },
    {
      "cell_type": "code",
      "source": [
        "print(Serie_S_n)"
      ],
      "metadata": {
        "colab": {
          "base_uri": "https://localhost:8080/"
        },
        "id": "6s6VHLoe8p6X",
        "outputId": "174a1b13-32a9-4741-9b42-b7b51de7dc76"
      },
      "execution_count": null,
      "outputs": [
        {
          "output_type": "stream",
          "name": "stdout",
          "text": [
            "[28, 64, 108, 160, 220, 288, 364, 448, 540, 640, 748, 864, 988, 1120, 1260, 1408, 1564, 1728, 1900, 2080, 2268, 2464, 2668, 2880, 3100]\n"
          ]
        }
      ]
    },
    {
      "cell_type": "markdown",
      "metadata": {
        "id": "AKWJ1F7hac8T"
      },
      "source": [
        "# Geometric Series\n",
        "\n",
        "## Modified from Geometric Series -  [Wolfram MathWorld](https://mathworld.wolfram.com/GeometricSeries.html) - [wikipedia](https://en.wikipedia.org/wiki/Geometric_series)\n"
      ]
    },
    {
      "cell_type": "markdown",
      "metadata": {
        "id": "W5zx_-nR81GI"
      },
      "source": [
        "An geometric series is the sum of a sequence $\\{a_k\\}$ for $k=1, 2, ..., $ in which each term is computed from the previous  by multipliying constant $r$ and starts with 1.\n",
        "\n",
        "\\begin{align*}\n",
        "a_0 &\\ \\ =\\ \\ r^0 \\ \\ =\\ \\ 1\\\\\n",
        "a_1 &\\ \\ =\\ \\ a_0 *  r \\ \\ =\\ \\  r\\\\\n",
        "a_2 &\\ \\ =\\ \\ a_1 * r\\ \\ =\\ \\ a_0 * r^2  \\ \\ =\\ \\ r^2 \\\\\n",
        "a_3 &\\ \\ =\\ \\ a_2 * r \\ \\ =\\ \\ a_0 * r^3 \\ \\ =\\ \\  r^3  \\\\\n",
        "a_4 &\\ \\ =\\ \\ a_3 * r\\ \\  =\\ \\ a_0 * r^4 \\ \\  =\\ \\ r^4  \\\\\n",
        "\\vdots\\\\\n",
        "a_k &\\ \\ =\\ \\ a_{(k-1)}* r \\ =\\   a_0 * r^k \\ \\  =\\ \\  r^k\n",
        "\\end{align*}\n",
        "\n",
        "The sum of the first $n$ terms  of  the geometric sequence (called an geometric serie)  is then given by\n",
        "$$\n",
        "\\begin{array}{ll}\n",
        "S_n &=  1 + r + r^2 + \\cdots + r^{n-1} +r^n \\\\\n",
        " &=  (1 + r + r^2 + \\cdots + r^{n-1} ) +r^n \\\\\n",
        " &= S_{n-1}  +r^n\n",
        "\\end{array}\n",
        "$$\n",
        "\n",
        "$$\n",
        "\\begin{array}{ll}\n",
        "S_n &=  1 + r + r^2 + \\cdots + r^{n-1} +r^n \\\\\n",
        " &=  1 + (r + r^2 + \\cdots + r^{n-1}  +r^n)  \\\\\n",
        " &=   1 + r (1 +  r  + r^2 + \\cdots + r^{n-1} )  \\\\\n",
        "  &=   1 + r   S_{n-1}\n",
        "\\end{array}\n",
        "$$\n",
        "\n",
        "Then\n",
        "$$\n",
        " S_{n-1}  +r^n =   1 + r   S_{n-1}\n",
        "$$\n",
        "\n",
        "Therefore\n",
        "$$\n",
        " S_{n-1} (1 -r)   +r^n =   1 - r^n\n",
        "$$\n",
        "\n",
        "$$\n",
        " S_{n-1}   =   \\frac{1 - r^n }{1 -r}\n",
        "$$\n",
        "\n",
        "$$\n",
        " S_{n}   =   \\frac{1 - r^{n+1} }{1 -r}  = \\frac{ r^{n+1} - 1}{r -1}\n",
        "$$\n"
      ]
    },
    {
      "cell_type": "markdown",
      "metadata": {
        "id": "CDUYfT8k8crr"
      },
      "source": [
        "## Nodes in Complete Binary Tree with $L=0,1,2,\\cdots , L-1$ levels\n",
        "\n",
        "![](https://raw.githubusercontent.com/gjhernandezp/algorithms/master/Lab7/ComBinTree.png)\n",
        "\n",
        "In a complete binary tree you have in ecah level $k =0,1,2,\\cdots $  $ 2^k $\n",
        "\n",
        "$$\n",
        "\\begin{array}{ll}\n",
        "\\text {Level } 0 \\rightarrow 2^0 = 1 \\text { node (root)} \\\\\n",
        "\\text {Level } 1 \\rightarrow 2^1 = 2 \\text { nodes} \\\\\n",
        "\\text {Level } 2 \\rightarrow 2^2 = 4 \\text { nodes} \\\\\n",
        "\\text {Level } 3 \\rightarrow 2^3 = 8 \\text { nodes} \\\\\n",
        "\\vdots\\\\\n",
        "\\text {Level } k \\rightarrow 2^k  \\text { nodes} \\\\\n",
        "\\end{array}\n",
        "$$\n",
        "\n",
        "nodes, with $l = 0,1,2, ... $ the level\n",
        "\n",
        "Total number of the complte tree with $L=0,1,2,\\cdots , L-1$ levels\n",
        "\n",
        "$$\n",
        "2^0 + 2^1 + 2^2 + \\cdots +2^{L-1}  = 1 + 2 + 4 + \\cdots +2^{L-1} = \\sum_{k=0}^{L-1} 2^k = \\frac{ 2^{L} - 1}{2 -1} = 2^{L} - 1\n",
        "$$"
      ]
    },
    {
      "cell_type": "markdown",
      "source": [
        "## Add the a geometric series with $r =2$ up to 10** 6 and verify with the formula.  "
      ],
      "metadata": {
        "id": "TWqL3ugpEpIN"
      }
    },
    {
      "cell_type": "code",
      "source": [
        "L = 20 #2^20 = 1048576 > 10^6 > 524288 = 2^19\n",
        "r = 2\n",
        "S_n = 0\n",
        "for i in range(L):\n",
        "  a_n = r**i\n",
        "  S_n = S_n + a_n\n",
        "print(S_n)"
      ],
      "metadata": {
        "id": "e3DmyWfVEtwV",
        "colab": {
          "base_uri": "https://localhost:8080/"
        },
        "outputId": "af6d1120-81b1-44cc-cf78-fd30eba87730"
      },
      "execution_count": null,
      "outputs": [
        {
          "output_type": "stream",
          "name": "stdout",
          "text": [
            "1048575\n"
          ]
        }
      ]
    },
    {
      "cell_type": "code",
      "source": [
        "#sum > 10^6\n",
        "(2**L - 1)"
      ],
      "metadata": {
        "id": "DUntYdM9FFc8",
        "colab": {
          "base_uri": "https://localhost:8080/"
        },
        "outputId": "4783da45-cf9c-47b2-821b-e66de74936a7"
      },
      "execution_count": null,
      "outputs": [
        {
          "output_type": "execute_result",
          "data": {
            "text/plain": [
              "1048575"
            ]
          },
          "metadata": {},
          "execution_count": 98
        }
      ]
    },
    {
      "cell_type": "markdown",
      "source": [
        "## Plot and  print the first 20 terms and the partial sums."
      ],
      "metadata": {
        "id": "PXfwrckTEuZF"
      }
    },
    {
      "cell_type": "code",
      "source": [
        "import matplotlib.pyplot as plt\n",
        "import numpy as np\n",
        "\n",
        "L = 20\n",
        "r = 2\n",
        "S_n = 0\n",
        "Serie_S_n = []\n",
        "Sequence_a_n = []\n",
        "for i in range(L):\n",
        "  a_n = r**i\n",
        "  S_n = S_n + a_n\n",
        "  Serie_S_n.append(S_n)\n",
        "  Sequence_a_n.append(a_n)\n",
        "\n",
        "plt.plot(np.arange(1, L + 1),Serie_S_n, color='black',label='Serie_S_n')\n",
        "plt.plot(np.arange(1, L + 1),Sequence_a_n, color='cyan',label='Sequence_a_n')\n",
        "plt.xticks(np.arange(1, L + 1))\n",
        "plt.legend()"
      ],
      "metadata": {
        "id": "YWdK15t3E2kN",
        "colab": {
          "base_uri": "https://localhost:8080/",
          "height": 463
        },
        "outputId": "12fbdae8-c787-450d-fae2-adb7a8c294aa"
      },
      "execution_count": null,
      "outputs": [
        {
          "output_type": "execute_result",
          "data": {
            "text/plain": [
              "<matplotlib.legend.Legend at 0x78ac8cf939d0>"
            ]
          },
          "metadata": {},
          "execution_count": 99
        },
        {
          "output_type": "display_data",
          "data": {
            "text/plain": [
              "<Figure size 640x480 with 1 Axes>"
            ],
            "image/png": "[encoded data removed]"
          },
          "metadata": {}
        }
      ]
    },
    {
      "cell_type": "code",
      "source": [
        "#First 20 terms\n",
        "print(Sequence_a_n)"
      ],
      "metadata": {
        "colab": {
          "base_uri": "https://localhost:8080/"
        },
        "id": "DIpqyIHDCQvw",
        "outputId": "d0e509a3-ec39-4c8f-8fc8-c5b76e788b87"
      },
      "execution_count": null,
      "outputs": [
        {
          "output_type": "stream",
          "name": "stdout",
          "text": [
            "[1, 2, 4, 8, 16, 32, 64, 128, 256, 512, 1024, 2048, 4096, 8192, 16384, 32768, 65536, 131072, 262144, 524288]\n"
          ]
        }
      ]
    },
    {
      "cell_type": "code",
      "source": [
        "#Partial sums first 20 terms\n",
        "print(Serie_S_n)"
      ],
      "metadata": {
        "colab": {
          "base_uri": "https://localhost:8080/"
        },
        "id": "HC4mfQZuCaxD",
        "outputId": "96a05f8d-d760-4c3a-ff2b-678a87ea4eb0"
      },
      "execution_count": null,
      "outputs": [
        {
          "output_type": "stream",
          "name": "stdout",
          "text": [
            "[1, 3, 7, 15, 31, 63, 127, 255, 511, 1023, 2047, 4095, 8191, 16383, 32767, 65535, 131071, 262143, 524287, 1048575]\n"
          ]
        }
      ]
    },
    {
      "cell_type": "markdown",
      "metadata": {
        "id": "YiWlrhLZNMX9"
      },
      "source": [
        "## Your own examples of a geometric series with  $r =d+1$ with $d$  the last digit of the number in the list, add the series up to 10** 6 and verify with the formula.\n"
      ]
    },
    {
      "cell_type": "markdown",
      "source": [
        "$$Last\\;digit\\;d = 8.\\; r = 8 + 1 = 9$$\n",
        "$$\n",
        "9^0 + 9^1 + 9^2 + \\cdots +9^{L-1}  = 1 + 9 + 81 + 729 + \\cdots +9^{L-1} = \\sum_{k=0}^{L-1} 9^k = \\frac{ 9^{L} - 1}{9 - 1} = \\frac{9^{L} - 1}{8}\n",
        "$$"
      ],
      "metadata": {
        "id": "TcupFYBdRzvD"
      }
    },
    {
      "cell_type": "code",
      "metadata": {
        "id": "YvMkYU8UNOll",
        "colab": {
          "base_uri": "https://localhost:8080/"
        },
        "outputId": "f03ea912-0fe7-42b7-e22d-715451d3cab6"
      },
      "source": [
        "L = 8 #9^8 = 43046721 > 10^6\n",
        "r = 9 #List last digit = 8. d + 1.\n",
        "S_n = 0\n",
        "for i in range(L):\n",
        "  a_n = r**i\n",
        "  S_n = S_n + a_n\n",
        "print(S_n)"
      ],
      "execution_count": null,
      "outputs": [
        {
          "output_type": "stream",
          "name": "stdout",
          "text": [
            "5380840\n"
          ]
        }
      ]
    },
    {
      "cell_type": "code",
      "source": [
        "((9**L - 1) / 8)"
      ],
      "metadata": {
        "id": "-HP3BafuFVYc",
        "colab": {
          "base_uri": "https://localhost:8080/"
        },
        "outputId": "6464cc62-5eb2-43e9-c5c4-81ed584ad4b9"
      },
      "execution_count": null,
      "outputs": [
        {
          "output_type": "execute_result",
          "data": {
            "text/plain": [
              "5380840.0"
            ]
          },
          "metadata": {},
          "execution_count": 103
        }
      ]
    },
    {
      "cell_type": "markdown",
      "source": [
        "##  Plot the first 20 terms and the partial sums."
      ],
      "metadata": {
        "id": "ZMYI3sNVEcfC"
      }
    },
    {
      "cell_type": "code",
      "source": [
        "import matplotlib.pyplot as plt\n",
        "import numpy as np\n",
        "\n",
        "L = 20\n",
        "r = 9\n",
        "S_n = 0\n",
        "Serie_S_n = []\n",
        "Sequence_a_n = []\n",
        "for i in range(L):\n",
        "  a_n = r**i\n",
        "  S_n = S_n + a_n\n",
        "  Serie_S_n.append(S_n)\n",
        "  Sequence_a_n.append(a_n)\n",
        "\n",
        "plt.plot(np.arange(1, L + 1),Serie_S_n, color='black',label='Serie_S_n')\n",
        "plt.plot(np.arange(1, L + 1),Sequence_a_n, color='cyan',label='Sequence_a_n')\n",
        "plt.xticks(np.arange(1, L + 1))\n",
        "plt.legend()"
      ],
      "metadata": {
        "id": "RC-2dFAxEYIt",
        "colab": {
          "base_uri": "https://localhost:8080/",
          "height": 463
        },
        "outputId": "27baf6e0-dcf1-46cb-8a02-198bae442e19"
      },
      "execution_count": null,
      "outputs": [
        {
          "output_type": "execute_result",
          "data": {
            "text/plain": [
              "<matplotlib.legend.Legend at 0x78ac8cee5210>"
            ]
          },
          "metadata": {},
          "execution_count": 104
        },
        {
          "output_type": "display_data",
          "data": {
            "text/plain": [
              "<Figure size 640x480 with 1 Axes>"
            ],
            "image/png": "[encoded data removed]"
          },
          "metadata": {}
        }
      ]
    },
    {
      "cell_type": "code",
      "source": [
        "#First 20 terms\n",
        "print(Sequence_a_n)"
      ],
      "metadata": {
        "colab": {
          "base_uri": "https://localhost:8080/"
        },
        "id": "HlkS6uRYLdEU",
        "outputId": "dd4c53e4-7572-4894-ed5d-55d0cb78a65d"
      },
      "execution_count": null,
      "outputs": [
        {
          "output_type": "stream",
          "name": "stdout",
          "text": [
            "[1, 9, 81, 729, 6561, 59049, 531441, 4782969, 43046721, 387420489, 3486784401, 31381059609, 282429536481, 2541865828329, 22876792454961, 205891132094649, 1853020188851841, 16677181699666569, 150094635296999121, 1350851717672992089]\n"
          ]
        }
      ]
    },
    {
      "cell_type": "code",
      "source": [
        "#Partial sums first 20 terms\n",
        "print(Serie_S_n)"
      ],
      "metadata": {
        "colab": {
          "base_uri": "https://localhost:8080/"
        },
        "id": "TnMdrwuVLp25",
        "outputId": "10150705-7df7-4e87-84c0-cd9f9f7d81ac"
      },
      "execution_count": null,
      "outputs": [
        {
          "output_type": "stream",
          "name": "stdout",
          "text": [
            "[1, 10, 91, 820, 7381, 66430, 597871, 5380840, 48427561, 435848050, 3922632451, 35303692060, 317733228541, 2859599056870, 25736391511831, 231627523606480, 2084647712458321, 18761829412124890, 168856464709124011, 1519708182382116100]\n"
          ]
        }
      ]
    },
    {
      "cell_type": "markdown",
      "metadata": {
        "id": "Dd3RWDwJe2xD"
      },
      "source": [
        "## Zenon Arrow\n",
        "\n",
        "![](https://raw.githubusercontent.com/gjhernandezp/algorithms/master/Lab7/zeno-paradox-arrow.png)\n",
        "\n",
        "Achilles and the tortoise - https://en.wikipedia.org/wiki/Zeno%27s_paradoxes\n",
        "\n",
        "\n",
        "\n",
        "$$\n",
        "\\lim_{n\\rightarrow \\infty} \\left\\{\\left(\\frac{1}{2}\\right)^0 + \\left(\\frac{1}{2}\\right)^1 +\\left(\\frac{1}{2}\\right)^2 + \\cdots +\\left(\\frac{1}{2}\\right)^{n} \\right\\} = \\lim_{n\\rightarrow \\infty} \\left\\{ 1 +\\frac{1}{2} + \\frac{1}{4} + \\frac{1}{8} + \\cdots +\\frac{1}{2^{n}}\\right\\}  = \\lim_{n\\rightarrow \\infty} \\sum_{k=0}^{n} \\left(\\frac{1}{2}\\right)^k = \\lim_{n\\rightarrow \\infty} \\frac{ 1- \\left(\\frac{1}{2}\\right)^n  }{1 - \\left(\\frac{1}{2}\\right) } = \\frac{ 1}{1 - \\left(\\frac{1}{2}\\right)} = 2\n",
        "$$"
      ]
    },
    {
      "cell_type": "markdown",
      "metadata": {
        "id": "R-J4EekBNPkd"
      },
      "source": [
        "## Sum the  geometric with  $r=\\frac{1}{2}$ add the series up to 10**3 and verify with the formula.\n",
        "\n"
      ]
    },
    {
      "cell_type": "code",
      "metadata": {
        "id": "8xdBovY3NEW_",
        "colab": {
          "base_uri": "https://localhost:8080/"
        },
        "outputId": "9b3cbec9-03a2-404b-c919-c62bef85de99"
      },
      "source": [
        "n = 1000\n",
        "r = 1/2\n",
        "S_n = 0\n",
        "for i in range(n):\n",
        "  a_n = r**i\n",
        "  S_n = S_n + a_n\n",
        "print(S_n)"
      ],
      "execution_count": null,
      "outputs": [
        {
          "output_type": "stream",
          "name": "stdout",
          "text": [
            "2.0\n"
          ]
        }
      ]
    },
    {
      "cell_type": "code",
      "source": [
        "((1 - (1/2)**n)/(1 - (1/2)))"
      ],
      "metadata": {
        "id": "3bjR3nkYFovN",
        "colab": {
          "base_uri": "https://localhost:8080/"
        },
        "outputId": "d8f695f6-5458-416a-e722-2d0329c8d11f"
      },
      "execution_count": null,
      "outputs": [
        {
          "output_type": "execute_result",
          "data": {
            "text/plain": [
              "2.0"
            ]
          },
          "metadata": {},
          "execution_count": 108
        }
      ]
    },
    {
      "cell_type": "markdown",
      "source": [
        "## Plot and print the first 60 terms and the partial sums."
      ],
      "metadata": {
        "id": "5pp0GXjjFrgc"
      }
    },
    {
      "cell_type": "code",
      "source": [
        "import matplotlib.pyplot as plt\n",
        "import numpy as np\n",
        "\n",
        "n = 60\n",
        "r = 1/2\n",
        "S_n = 0\n",
        "Serie_S_n = []\n",
        "Sequence_a_n = []\n",
        "for i in range(n):\n",
        "  a_n = r**i\n",
        "  S_n = S_n + a_n\n",
        "  Serie_S_n.append(S_n)\n",
        "  Sequence_a_n.append(a_n)\n",
        "\n",
        "plt.plot(np.arange(1, n + 1),Serie_S_n, color='black',label='Serie_S_n')\n",
        "plt.plot(np.arange(1, n + 1),Sequence_a_n, color='cyan',label='Sequence_a_n')\n",
        "plt.xticks(np.arange(1, n + 1))\n",
        "plt.legend()"
      ],
      "metadata": {
        "id": "BNEY8PfmFyM1",
        "colab": {
          "base_uri": "https://localhost:8080/",
          "height": 448
        },
        "outputId": "2066d624-176f-44d5-822d-365f95b05aa8"
      },
      "execution_count": null,
      "outputs": [
        {
          "output_type": "execute_result",
          "data": {
            "text/plain": [
              "<matplotlib.legend.Legend at 0x78ac90a02a70>"
            ]
          },
          "metadata": {},
          "execution_count": 109
        },
        {
          "output_type": "display_data",
          "data": {
            "text/plain": [
              "<Figure size 640x480 with 1 Axes>"
            ],
            "image/png": "[encoded data removed]"
          },
          "metadata": {}
        }
      ]
    },
    {
      "cell_type": "code",
      "source": [
        "#First 60 terms\n",
        "print(Sequence_a_n)"
      ],
      "metadata": {
        "colab": {
          "base_uri": "https://localhost:8080/"
        },
        "id": "YMQNj5j0ORIo",
        "outputId": "c178ddb0-1685-4ed8-b22e-d90dd251d277"
      },
      "execution_count": null,
      "outputs": [
        {
          "output_type": "stream",
          "name": "stdout",
          "text": [
            "[1.0, 0.5, 0.25, 0.125, 0.0625, 0.03125, 0.015625, 0.0078125, 0.00390625, 0.001953125, 0.0009765625, 0.00048828125, 0.000244140625, 0.0001220703125, 6.103515625e-05, 3.0517578125e-05, 1.52587890625e-05, 7.62939453125e-06, 3.814697265625e-06, 1.9073486328125e-06, 9.5367431640625e-07, 4.76837158203125e-07, 2.384185791015625e-07, 1.1920928955078125e-07, 5.960464477539063e-08, 2.9802322387695312e-08, 1.4901161193847656e-08, 7.450580596923828e-09, 3.725290298461914e-09, 1.862645149230957e-09, 9.313225746154785e-10, 4.656612873077393e-10, 2.3283064365386963e-10, 1.1641532182693481e-10, 5.820766091346741e-11, 2.9103830456733704e-11, 1.4551915228366852e-11, 7.275957614183426e-12, 3.637978807091713e-12, 1.8189894035458565e-12, 9.094947017729282e-13, 4.547473508864641e-13, 2.2737367544323206e-13, 1.1368683772161603e-13, 5.684341886080802e-14, 2.842170943040401e-14, 1.4210854715202004e-14, 7.105427357601002e-15, 3.552713678800501e-15, 1.7763568394002505e-15, 8.881784197001252e-16, 4.440892098500626e-16, 2.220446049250313e-16, 1.1102230246251565e-16, 5.551115123125783e-17, 2.7755575615628914e-17, 1.3877787807814457e-17, 6.938893903907228e-18, 3.469446951953614e-18, 1.734723475976807e-18]\n"
          ]
        }
      ]
    },
    {
      "cell_type": "code",
      "source": [
        "#Partial sums first 60 terms\n",
        "print(Serie_S_n)"
      ],
      "metadata": {
        "colab": {
          "base_uri": "https://localhost:8080/"
        },
        "id": "x0o327pGOZ6U",
        "outputId": "35970994-427f-434d-8420-f3c23918c07c"
      },
      "execution_count": null,
      "outputs": [
        {
          "output_type": "stream",
          "name": "stdout",
          "text": [
            "[1.0, 1.5, 1.75, 1.875, 1.9375, 1.96875, 1.984375, 1.9921875, 1.99609375, 1.998046875, 1.9990234375, 1.99951171875, 1.999755859375, 1.9998779296875, 1.99993896484375, 1.999969482421875, 1.9999847412109375, 1.9999923706054688, 1.9999961853027344, 1.9999980926513672, 1.9999990463256836, 1.9999995231628418, 1.999999761581421, 1.9999998807907104, 1.9999999403953552, 1.9999999701976776, 1.9999999850988388, 1.9999999925494194, 1.9999999962747097, 1.9999999981373549, 1.9999999990686774, 1.9999999995343387, 1.9999999997671694, 1.9999999998835847, 1.9999999999417923, 1.9999999999708962, 1.999999999985448, 1.999999999992724, 1.999999999996362, 1.999999999998181, 1.9999999999990905, 1.9999999999995453, 1.9999999999997726, 1.9999999999998863, 1.9999999999999432, 1.9999999999999716, 1.9999999999999858, 1.999999999999993, 1.9999999999999964, 1.9999999999999982, 1.9999999999999991, 1.9999999999999996, 1.9999999999999998, 2.0, 2.0, 2.0, 2.0, 2.0, 2.0, 2.0]\n"
          ]
        }
      ]
    },
    {
      "cell_type": "markdown",
      "source": [
        "## Your own examples of a geometric series with $r=\\frac{1}{d+1}$  with $d$ add the series up to 10**3 and verify with the formula."
      ],
      "metadata": {
        "id": "y9RQsrrjFx2k"
      }
    },
    {
      "cell_type": "markdown",
      "source": [
        "$$Last\\;digit\\; d = 8.\\;r = \\frac{1}{8 + 1} = \\frac{1}{9}$$\n",
        "$$\n",
        "\\lim_{n\\rightarrow \\infty} \\left\\{\\left(\\frac{1}{9}\\right)^0 + \\left(\\frac{1}{9}\\right)^1 +\\left(\\frac{1}{9}\\right)^2 + \\cdots +\\left(\\frac{1}{9}\\right)^{n} \\right\\} = \\lim_{n\\rightarrow \\infty} \\left\\{ 1 +\\frac{1}{9} + \\frac{1}{81} + \\frac{1}{729} + \\cdots +\\frac{1}{9^{n}}\\right\\}  = \\lim_{n\\rightarrow \\infty} \\sum_{k=0}^{n} \\left(\\frac{1}{9}\\right)^k = \\lim_{n\\rightarrow \\infty} \\frac{ 1- \\left(\\frac{1}{9}\\right)^n  }{1 - \\left(\\frac{1}{9}\\right) } = \\frac{ 1}{1 - \\left(\\frac{1}{9}\\right)} = 1.125\n",
        "$$"
      ],
      "metadata": {
        "id": "6OuW0Hj9Pdkd"
      }
    },
    {
      "cell_type": "code",
      "source": [
        "n = 1000\n",
        "r = 1/9 #List number last digit 8. d + 1\n",
        "S_n = 0\n",
        "for i in range(n):\n",
        "  a_n = r**i\n",
        "  S_n = S_n + a_n\n",
        "print(S_n)"
      ],
      "metadata": {
        "id": "CtWIsJxlGfGU",
        "colab": {
          "base_uri": "https://localhost:8080/"
        },
        "outputId": "daec6bc8-9b18-4499-df4d-829d198b80bb"
      },
      "execution_count": null,
      "outputs": [
        {
          "output_type": "stream",
          "name": "stdout",
          "text": [
            "1.125\n"
          ]
        }
      ]
    },
    {
      "cell_type": "code",
      "source": [
        "((1 - (1/9)**n)/(1 - (1/9)))"
      ],
      "metadata": {
        "id": "EFbKmFMPGe_E",
        "colab": {
          "base_uri": "https://localhost:8080/"
        },
        "outputId": "c8659413-92e6-4c5f-9065-8b9e5905e852"
      },
      "execution_count": null,
      "outputs": [
        {
          "output_type": "execute_result",
          "data": {
            "text/plain": [
              "1.125"
            ]
          },
          "metadata": {},
          "execution_count": 113
        }
      ]
    },
    {
      "cell_type": "markdown",
      "source": [
        "## Plot and print the first 60 terms and the partial sums."
      ],
      "metadata": {
        "id": "sjX-Z7cwGhUt"
      }
    },
    {
      "cell_type": "code",
      "source": [
        "import matplotlib.pyplot as plt\n",
        "import numpy as np\n",
        "\n",
        "n = 60\n",
        "r = 1/9\n",
        "S_n = 0\n",
        "Serie_S_n = []\n",
        "Sequence_a_n = []\n",
        "for i in range(n):\n",
        "  a_n = r**i\n",
        "  S_n = S_n + a_n\n",
        "  Serie_S_n.append(S_n)\n",
        "  Sequence_a_n.append(a_n)\n",
        "\n",
        "plt.plot(np.arange(1, n + 1),Serie_S_n, color='black',label='Serie_S_n')\n",
        "plt.plot(np.arange(1, n + 1),Sequence_a_n, color='cyan',label='Sequence_a_n')\n",
        "plt.xticks(np.arange(1, n + 1))\n",
        "plt.legend()"
      ],
      "metadata": {
        "id": "tdyJ355mGjKG",
        "colab": {
          "base_uri": "https://localhost:8080/",
          "height": 448
        },
        "outputId": "77591d58-83f0-4bb3-98b9-3830d4136f98"
      },
      "execution_count": null,
      "outputs": [
        {
          "output_type": "execute_result",
          "data": {
            "text/plain": [
              "<matplotlib.legend.Legend at 0x78ac9c7aa200>"
            ]
          },
          "metadata": {},
          "execution_count": 115
        },
        {
          "output_type": "display_data",
          "data": {
            "text/plain": [
              "<Figure size 640x480 with 1 Axes>"
            ],
            "image/png": "[encoded data removed]"
          },
          "metadata": {}
        }
      ]
    },
    {
      "cell_type": "code",
      "source": [
        "#First 60 terms\n",
        "print(Sequence_a_n)"
      ],
      "metadata": {
        "colab": {
          "base_uri": "https://localhost:8080/"
        },
        "id": "tumIzrgjPJan",
        "outputId": "c0b58ed7-d406-4230-900e-5dd1b7334033"
      },
      "execution_count": null,
      "outputs": [
        {
          "output_type": "stream",
          "name": "stdout",
          "text": [
            "[1.0, 0.1111111111111111, 0.012345679012345678, 0.001371742112482853, 0.00015241579027587256, 1.6935087808430282e-05, 1.8816764231589202e-06, 2.090751581287689e-07, 2.3230573125418763e-08, 2.581174791713196e-09, 2.86797199079244e-10, 3.186635545324933e-11, 3.5407061614721473e-12, 3.934117957191275e-13, 4.3712421746569716e-14, 4.8569357496188575e-15, 5.396595277354285e-16, 5.996216974838094e-17, 6.66246330537566e-18, 7.402737005972955e-19, 8.22526333996995e-20, 9.139181488855499e-21, 1.0154646098728331e-21, 1.1282940109698147e-22, 1.2536600121886828e-23, 1.3929555690985364e-24, 1.5477284101094847e-25, 1.719698233454983e-26, 1.9107758149499812e-27, 2.123084238833312e-28, 2.358982487592569e-29, 2.621091652880632e-30, 2.9123240587562576e-31, 3.235915620840286e-32, 3.595461800933651e-33, 3.994957556592945e-34, 4.438841729547717e-35, 4.932046366164129e-36, 5.480051517960144e-37, 6.088946131066826e-38, 6.765495701185361e-39, 7.517217445761513e-40, 8.352463828623902e-41, 9.280515365137669e-42, 1.0311683739041854e-42, 1.145742637671317e-43, 1.2730473751903522e-44, 1.4144970835448358e-45, 1.5716634261609284e-46, 1.7462926957343649e-47, 1.9403252174826273e-48, 2.1559169083140305e-49, 2.3954632314600334e-50, 2.6616258127333705e-51, 2.9573620141481893e-52, 3.285957793497988e-53, 3.651064214997764e-54, 4.056738016664182e-55, 4.5074866851824245e-56, 5.008318539091582e-57]\n"
          ]
        }
      ]
    },
    {
      "cell_type": "code",
      "source": [
        "#Partial sums first 60 terms\n",
        "print(Serie_S_n)"
      ],
      "metadata": {
        "colab": {
          "base_uri": "https://localhost:8080/"
        },
        "id": "lj9J-hfNPKd3",
        "outputId": "e0727401-98c6-4a56-ef24-338a382a4118"
      },
      "execution_count": null,
      "outputs": [
        {
          "output_type": "stream",
          "name": "stdout",
          "text": [
            "[1.0, 1.1111111111111112, 1.123456790123457, 1.1248285322359397, 1.1249809480262156, 1.1249978831140242, 1.1249997647904473, 1.1249999738656054, 1.1249999970961784, 1.1249999996773532, 1.1249999999641505, 1.1249999999960167, 1.1249999999995575, 1.124999999999951, 1.1249999999999947, 1.1249999999999996, 1.125, 1.125, 1.125, 1.125, 1.125, 1.125, 1.125, 1.125, 1.125, 1.125, 1.125, 1.125, 1.125, 1.125, 1.125, 1.125, 1.125, 1.125, 1.125, 1.125, 1.125, 1.125, 1.125, 1.125, 1.125, 1.125, 1.125, 1.125, 1.125, 1.125, 1.125, 1.125, 1.125, 1.125, 1.125, 1.125, 1.125, 1.125, 1.125, 1.125, 1.125, 1.125, 1.125, 1.125]\n"
          ]
        }
      ]
    },
    {
      "cell_type": "markdown",
      "metadata": {
        "id": "dh2ntBeoNQlN"
      },
      "source": [
        "# Power Sums Power Sums - [Wolfram MathWorld](https://mathworld.wolfram.com/PowerSum.html) - [wikipedia](https://en.wikipedia.org/wiki/Sums_of_powers) - [reserachgate](https://www.researchgate.net/publication/331933608_The_Powers_Sums_Bernoulli_Numbers_Bernoulli_Polynomials_Rethinked)\n",
        "\n"
      ]
    },
    {
      "cell_type": "markdown",
      "source": [
        "## Your own example of power sum with $p =$ last digit in the list $+ 1$, i.e., the sum $1^p+2^p+\\cdots + n^p$  series up to  $n=10^6$  and verify with the formula."
      ],
      "metadata": {
        "id": "kSYU0kwMCBXB"
      }
    },
    {
      "cell_type": "markdown",
      "source": [
        "By the definition of Power Sum\n",
        "$$\\sum\\limits_{k=1}^{n}k^{p} = 1^{p} + 2^{p} + 3^{p} + 4^{p} + \\dots + n^{p}$$\n",
        "then, by Faulhaber's formula:\n",
        "$$\\sum\\limits_{k = 1}^{n}k^{p} = \\frac{1}{p + 1}\\sum\\limits_{k = 0}^{p}{p + 1 \\choose k}B_{k}n^{p - k + 1}$$\n",
        "Where:<br />\n",
        "${p + 1 \\choose k} := \\frac{\\left(p + 1\\right)!}{\\left(k\\right)!\\left(p + 1 - k\\right)!}$ $Binomial\\;coefficient$\n",
        "<br /><br />\n",
        "$B_{k} := kth\\;Bernoulli\\;number.\\; i.e.\\;$ $B_{0} := 1,\\;B_{1} := \\frac{1}{2},\\; B_{2} := \\frac{1}{6},\\; B_{3} := 0, B_{4} := -\\frac{1}{30},\\; \\dots $\n",
        "<br /><br />\n",
        "$Bernoulli\\; numbers: $ https://encyclopediaofmath.org/wiki/Bernoulli_numbers.\n",
        "<br /><br />\n",
        "Given $last\\;digit = 8$. Then $p = 8 + 1$.<br />\n",
        "In particular, for $p = 9$:\n",
        "$$\\sum\\limits_{k = 1}^{n}k^{9} = \\frac{1}{9 + 1}\\sum\\limits_{k = 0}^{9}{9 + 1 \\choose k}B_{k}n^{9 - k + 1}$$\n",
        "$$ = \\sum\\limits_{k = 1}^{n}k^{9} = \\frac{1}{10}\\sum\\limits_{k = 0}^{9}{10 \\choose k}B_{k}n^{10 - k}$$<br />\n",
        "It follows:\n",
        "$\\frac{1}{10}{10 \\choose 0}B_{0}n^{10}+\\frac{1}{10}{10 \\choose 1}B_{1}n^{9}+\\frac{1}{10}{10 \\choose 2}B_{2}n^{8}+\\frac{1}{10}{10 \\choose 3}B_{3}n^{7}+\\frac{1}{10}{10 \\choose 4}B_{4}n^{6}+\\frac{1}{10}{10 \\choose 5}B_{5}n^{5}+\\frac{1}{10}{10 \\choose 6}B_{6}n^{4}+\\frac{1}{10}{10 \\choose 7}B_{7}n^{3}+\\frac{1}{10}{10 \\choose 8}B_{8}n^{2}+\\frac{1}{10}{10 \\choose 9}B_{9}n$<br />\n",
        "<br />\n",
        " $$= \\frac{1}{10}\\left[{10 \\choose 0}n^{10}+{10 \\choose 1}\\frac{1}{2}n^{9}+{10 \\choose 2}\\frac{1}{6}n^{8}+{10 \\choose 3}0n^{7}+{10 \\choose 4}-\\frac{1}{30}n^{6}+{10 \\choose 5}0n^{5}+{10 \\choose 6}\\frac{1}{42}n^{4}+{10 \\choose 7}0n^{3}+{10 \\choose 8}-\\frac{1}{30}n^{2}+{10 \\choose 9}0n\\right]$$<br />\n",
        "\n",
        "  $$= \\frac{1}{10}\\left[n^{10}+5n^{9}+\\frac{45}{6}n^{8}-7n^{6}+5n^{4}-\\frac{3}{2}n^{2}\\right]$$"
      ],
      "metadata": {
        "id": "d9IcTrkqqM-g"
      }
    },
    {
      "cell_type": "code",
      "metadata": {
        "id": "2PyxzzOZVIdl",
        "colab": {
          "base_uri": "https://localhost:8080/"
        },
        "outputId": "77fc8b98-a988-4dca-992d-58d4dbfe6e06"
      },
      "source": [
        "n = 1000000\n",
        "p = 9 #Last digit d = 8. d + 1\n",
        "S_n = 0\n",
        "for i in range(1, n + 1):\n",
        "  a_n = i**p\n",
        "  S_n = S_n + a_n\n",
        "print(S_n)"
      ],
      "execution_count": null,
      "outputs": [
        {
          "output_type": "stream",
          "name": "stdout",
          "text": [
            "100000500000749999999999300000000000499999999999850000000000\n"
          ]
        }
      ]
    },
    {
      "cell_type": "markdown",
      "source": [
        "Using the derivated closed expression:\n",
        "$$\\sum\\limits_{k = 1}^{n}k^{9} = \\frac{1}{10}\\left[n^{10}+5n^{9}+\\frac{45}{6}n^{8}-7n^{6}+5n^{4}-\\frac{3}{2}n^{2}\\right]$$"
      ],
      "metadata": {
        "id": "gMJe2QLV4Hic"
      }
    },
    {
      "cell_type": "code",
      "source": [
        "#https://www.wolframalpha.com/input?i=1%2F10*%28n**10+%2B+5*n**9+%2B+%2845%2F6%29*n**8+-+7*n**6+%2B+5*n**4-%283%2F2%29*n**2%29%2C+n+%3D+1000000&lang=es\n",
        "#Link, WolframAlpha, contains an EXACT computation. Here is giving an aproximation.\n",
        "n = 1000000\n",
        "1/10*(n**10 + 5*n**9 + (45/6)*n**8 - 7*n**6 + 5*n**4 - (3/2)*n**2)"
      ],
      "metadata": {
        "id": "VO_jmCYvGxYU",
        "colab": {
          "base_uri": "https://localhost:8080/"
        },
        "outputId": "1aca105c-3d6e-4b65-daba-c34fd3d7770f"
      },
      "execution_count": 124,
      "outputs": [
        {
          "output_type": "execute_result",
          "data": {
            "text/plain": [
              "1.0000050000075001e+59"
            ]
          },
          "metadata": {},
          "execution_count": 124
        }
      ]
    },
    {
      "cell_type": "markdown",
      "source": [
        "Using Wolfram's Power Sum article closed expression (https://mathworld.wolfram.com/PowerSum.html):\n",
        "$$\\sum\\limits_{k = 1}^{n}k^{9} = \\frac{1}{20}\\left[2n^{10}+10n^{9}+15n^{8}-14n^{6}+10n^{4}-3n^{2}\\right]$$"
      ],
      "metadata": {
        "id": "T80yoL6F4R_L"
      }
    },
    {
      "cell_type": "code",
      "source": [
        "#https://www.wolframalpha.com/input?i=1%2F20*%282*n**10+%2B+10*n**9+%2B+15*n**8+-+14*n**6+%2B+10*n**4+-+3*n**2%29%2C+n+%3D+1000000&lang=es\n",
        "#Link, WolframAlpha, contains an EXACT computation. Here is giving an aproximation.\n",
        "n = 1000000\n",
        "1/20*(2*n**10 + 10*n**9 + 15*n**8 - 14*n**6 + 10*n**4 - 3*n**2)"
      ],
      "metadata": {
        "colab": {
          "base_uri": "https://localhost:8080/"
        },
        "id": "dixC2rBA3WR_",
        "outputId": "f84651ab-b13a-4151-af8a-827efbb067f9"
      },
      "execution_count": 125,
      "outputs": [
        {
          "output_type": "execute_result",
          "data": {
            "text/plain": [
              "1.0000050000075001e+59"
            ]
          },
          "metadata": {},
          "execution_count": 125
        }
      ]
    },
    {
      "cell_type": "markdown",
      "source": [
        "## Plot the firtst 20 terms and the partial sums"
      ],
      "metadata": {
        "id": "bLfkQAVNGx1c"
      }
    },
    {
      "cell_type": "code",
      "source": [
        "import matplotlib.pyplot as plt\n",
        "import numpy as np\n",
        "\n",
        "n = 20\n",
        "p = 9\n",
        "S_n = 0\n",
        "Serie_S_n = []\n",
        "Sequence_a_n = []\n",
        "for i in range(1, n + 1):\n",
        "  a_n = i**p\n",
        "  S_n = S_n + a_n\n",
        "  Serie_S_n.append(S_n)\n",
        "  Sequence_a_n.append(a_n)\n",
        "\n",
        "plt.plot(np.arange(1, n + 1),Serie_S_n, color='black',label='Serie_S_n')\n",
        "plt.plot(np.arange(1, n + 1),Sequence_a_n, color='cyan',label='Sequence_a_n')\n",
        "plt.xticks(np.arange(1, n + 1))\n",
        "plt.legend()"
      ],
      "metadata": {
        "id": "j7EtiVSYG2E1",
        "colab": {
          "base_uri": "https://localhost:8080/",
          "height": 463
        },
        "outputId": "6819b786-2e38-4ef1-e3eb-e1f0b11d7791"
      },
      "execution_count": null,
      "outputs": [
        {
          "output_type": "execute_result",
          "data": {
            "text/plain": [
              "<matplotlib.legend.Legend at 0x78ac9c7aa4a0>"
            ]
          },
          "metadata": {},
          "execution_count": 121
        },
        {
          "output_type": "display_data",
          "data": {
            "text/plain": [
              "<Figure size 640x480 with 1 Axes>"
            ],
            "image/png": "[encoded data removed]"
          },
          "metadata": {}
        }
      ]
    },
    {
      "cell_type": "code",
      "source": [
        "#First 20 terms\n",
        "print(Sequence_a_n)"
      ],
      "metadata": {
        "colab": {
          "base_uri": "https://localhost:8080/"
        },
        "id": "lE29pUN7GTDj",
        "outputId": "1a0d2a10-d64e-47d1-9698-df437fa7f275"
      },
      "execution_count": null,
      "outputs": [
        {
          "output_type": "stream",
          "name": "stdout",
          "text": [
            "[1, 512, 19683, 262144, 1953125, 10077696, 40353607, 134217728, 387420489, 1000000000, 2357947691, 5159780352, 10604499373, 20661046784, 38443359375, 68719476736, 118587876497, 198359290368, 322687697779, 512000000000]\n"
          ]
        }
      ]
    },
    {
      "cell_type": "code",
      "source": [
        "#Partial Sums 20 terms\n",
        "print(Serie_S_n)"
      ],
      "metadata": {
        "colab": {
          "base_uri": "https://localhost:8080/"
        },
        "id": "KIqkoUvfGdFP",
        "outputId": "e99c601f-a4f2-4b3f-d22d-04d1c3e94310"
      },
      "execution_count": null,
      "outputs": [
        {
          "output_type": "stream",
          "name": "stdout",
          "text": [
            "[1, 513, 20196, 282340, 2235465, 12313161, 52666768, 186884496, 574304985, 1574304985, 3932252676, 9092033028, 19696532401, 40357579185, 78800938560, 147520415296, 266108291793, 464467582161, 787155279940, 1299155279940]\n"
          ]
        }
      ]
    }
  ]
}